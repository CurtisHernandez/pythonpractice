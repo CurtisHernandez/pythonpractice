{
 "cells": [
  {
   "cell_type": "markdown",
   "metadata": {},
   "source": [
    "Homework for the first linear algebra class:\n",
    "https://services.math.duke.edu/~bfitzpat/teaching/7903f18/hw/7903f18-digraphs-hw.pdf"
   ]
  },
  {
   "cell_type": "markdown",
   "metadata": {},
   "source": [
    "Problem 1. Consider the following digraph:\n",
    "![alt text](Desktop/school/digraph.png \"Title\")"
   ]
  },
  {
   "cell_type": "markdown",
   "metadata": {},
   "source": [
    "(a) Find the incidence vectors and the incidence matrix for this digraph. Clearly label your\n",
    "vectors and your matrix."
   ]
  },
  {
   "cell_type": "code",
   "execution_count": 19,
   "metadata": {},
   "outputs": [
    {
     "name": "stdout",
     "output_type": "stream",
     "text": [
      "For arrow a1, the incidence vector is:\n",
      "[[-1]\n",
      " [ 1]\n",
      " [ 0]\n",
      " [ 0]\n",
      " [ 0]\n",
      " [ 0]]\n",
      "For arrow a2, the incidence vector is:\n",
      "[[ 0]\n",
      " [-1]\n",
      " [ 1]\n",
      " [ 0]\n",
      " [ 0]\n",
      " [ 0]]\n",
      "For arrow a3, the incidence vector is:\n",
      "[[ 0]\n",
      " [-1]\n",
      " [ 0]\n",
      " [ 1]\n",
      " [ 0]\n",
      " [ 0]]\n",
      "For arrow a4, the incidence vector is:\n",
      "[[ 0]\n",
      " [ 0]\n",
      " [-1]\n",
      " [ 0]\n",
      " [ 1]\n",
      " [ 0]]\n",
      "For arrow a5, the incidence vector is:\n",
      "[[ 0]\n",
      " [ 0]\n",
      " [ 0]\n",
      " [-1]\n",
      " [ 1]\n",
      " [ 0]]\n",
      "For arrow a6, the incidence vector is:\n",
      "[[ 0]\n",
      " [ 0]\n",
      " [ 0]\n",
      " [ 0]\n",
      " [-1]\n",
      " [ 1]]\n",
      "For arrow a7, the incidence vector is:\n",
      "[[ 0]\n",
      " [ 0]\n",
      " [ 0]\n",
      " [-1]\n",
      " [ 0]\n",
      " [ 1]]\n",
      "And the matrix A all together is:\n",
      "[[-1  0  0  0  0  0  0]\n",
      " [ 1 -1 -1  0  0  0  0]\n",
      " [ 0  1  0 -1  0  0  0]\n",
      " [ 0  0  1  0 -1  0 -1]\n",
      " [ 0  0  0  1  1 -1  0]\n",
      " [ 0  0  0  0  0  1  1]]\n"
     ]
    }
   ],
   "source": [
    "import numpy as np\n",
    "incidenceVectors = {\"a1\": np.array([-1,1,0,0,0,0]),\n",
    "                    \"a2\": np.array([0,-1,1,0,0,0]),\n",
    "                    \"a3\": np.array([0,-1,0,1,0,0]),\n",
    "                    \"a4\": np.array([0,0,-1,0,1,0]),\n",
    "                    \"a5\": np.array([0,0,0,-1,1,0]),\n",
    "                    \"a6\": np.array([0,0,0,0,-1,1]),\n",
    "                    \"a7\": np.array([0,0,0,-1,0,1])}\n",
    "for i, j in incidenceVectors.items():\n",
    "    print(\"For arrow \" + i + \", the incidence vector is:\")\n",
    "    print(np.column_stack([j]))\n",
    "    \n",
    "A = np.array([incidenceVectors[\"a1\"],\n",
    "             incidenceVectors[\"a2\"],\n",
    "             incidenceVectors[\"a3\"],\n",
    "             incidenceVectors[\"a4\"],\n",
    "             incidenceVectors[\"a5\"],\n",
    "             incidenceVectors[\"a6\"],\n",
    "             incidenceVectors[\"a7\"]])\n",
    "A = A.T\n",
    "print(\"And the matrix A all together is:\")\n",
    "print(A)"
   ]
  },
  {
   "cell_type": "markdown",
   "metadata": {},
   "source": [
    "(b) Find the transpose AT of the incidence matrix A. What are the sizes of A and AT?"
   ]
  },
  {
   "cell_type": "code",
   "execution_count": 20,
   "metadata": {},
   "outputs": [
    {
     "name": "stdout",
     "output_type": "stream",
     "text": [
      "The transpose of AT is:\n",
      "[[-1  1  0  0  0  0]\n",
      " [ 0 -1  1  0  0  0]\n",
      " [ 0 -1  0  1  0  0]\n",
      " [ 0  0 -1  0  1  0]\n",
      " [ 0  0  0 -1  1  0]\n",
      " [ 0  0  0  0 -1  1]\n",
      " [ 0  0  0 -1  0  1]]\n",
      "The size of A is 6x7, and the size of AT is 7x6.\n"
     ]
    }
   ],
   "source": [
    "print(\"The transpose of AT is:\")\n",
    "print(A.T) #lol involution\n",
    "print(\"The size of A is 6x7, and the size of AT is 7x6.\")"
   ]
  },
  {
   "cell_type": "markdown",
   "metadata": {},
   "source": [
    "(c) Determine the net flow through each node by computing a vector sum."
   ]
  },
  {
   "cell_type": "code",
   "execution_count": 21,
   "metadata": {},
   "outputs": [
    {
     "name": "stdout",
     "output_type": "stream",
     "text": [
      "The vector sum is:\n",
      "[[-1]\n",
      " [-1]\n",
      " [ 0]\n",
      " [-1]\n",
      " [ 1]\n",
      " [ 2]]\n",
      "Which means that...\n",
      "Node 1 has a net flow of -1.\n",
      "Node 2 has a net flow of -1.\n",
      "Node 3 has a net flow of 0.\n",
      "Node 4 has a net flow of -1.\n",
      "Node 5 has a net flow of 1.\n",
      "Node 6 has a net flow of 2.\n"
     ]
    }
   ],
   "source": [
    "vectorSum = np.sum(A,axis=1)\n",
    "print(\"The vector sum is:\")\n",
    "print(np.column_stack([vectorSum]))\n",
    "print(\"Which means that...\")\n",
    "for i in range(len(vectorSum)):\n",
    "    print(\"Node \" + str(i+1) + \" has a net flow of \" + str(vectorSum[i]) + \".\")"
   ]
  },
  {
   "cell_type": "markdown",
   "metadata": {},
   "source": [
    "(d) Suppose we choose weights for each arrow as follows: a1 --> 0, a2 --> 1, a3 --> 2, a4 --> -1, a5 --> 0, a6 --> 1, a7 --> -3.  Compute the weighted net flow through each node by computing the appropriate linear\n",
    "combination of the incidence vectors of the digraph."
   ]
  },
  {
   "cell_type": "code",
   "execution_count": 22,
   "metadata": {},
   "outputs": [
    {
     "name": "stdout",
     "output_type": "stream",
     "text": [
      "For row 1, column 1, we have -1 scaled by 0...\n",
      "For row 1, column 2, we have 0 scaled by 1...\n",
      "For row 1, column 3, we have 0 scaled by 2...\n",
      "For row 1, column 4, we have 0 scaled by -1...\n",
      "For row 1, column 5, we have 0 scaled by 0...\n",
      "For row 1, column 6, we have 0 scaled by 1...\n",
      "For row 1, column 7, we have 0 scaled by -3...\n",
      "So the weighted net flow for node 1 is 0.\n",
      "For row 2, column 1, we have 1 scaled by 0...\n",
      "For row 2, column 2, we have -1 scaled by 1...\n",
      "For row 2, column 3, we have -1 scaled by 2...\n",
      "For row 2, column 4, we have 0 scaled by -1...\n",
      "For row 2, column 5, we have 0 scaled by 0...\n",
      "For row 2, column 6, we have 0 scaled by 1...\n",
      "For row 2, column 7, we have 0 scaled by -3...\n",
      "So the weighted net flow for node 2 is -3.\n",
      "For row 3, column 1, we have 0 scaled by 0...\n",
      "For row 3, column 2, we have 1 scaled by 1...\n",
      "For row 3, column 3, we have 0 scaled by 2...\n",
      "For row 3, column 4, we have -1 scaled by -1...\n",
      "For row 3, column 5, we have 0 scaled by 0...\n",
      "For row 3, column 6, we have 0 scaled by 1...\n",
      "For row 3, column 7, we have 0 scaled by -3...\n",
      "So the weighted net flow for node 3 is 2.\n",
      "For row 4, column 1, we have 0 scaled by 0...\n",
      "For row 4, column 2, we have 0 scaled by 1...\n",
      "For row 4, column 3, we have 1 scaled by 2...\n",
      "For row 4, column 4, we have 0 scaled by -1...\n",
      "For row 4, column 5, we have -1 scaled by 0...\n",
      "For row 4, column 6, we have 0 scaled by 1...\n",
      "For row 4, column 7, we have -1 scaled by -3...\n",
      "So the weighted net flow for node 4 is 5.\n",
      "For row 5, column 1, we have 0 scaled by 0...\n",
      "For row 5, column 2, we have 0 scaled by 1...\n",
      "For row 5, column 3, we have 0 scaled by 2...\n",
      "For row 5, column 4, we have 1 scaled by -1...\n",
      "For row 5, column 5, we have 1 scaled by 0...\n",
      "For row 5, column 6, we have -1 scaled by 1...\n",
      "For row 5, column 7, we have 0 scaled by -3...\n",
      "So the weighted net flow for node 5 is -2.\n",
      "For row 6, column 1, we have 0 scaled by 0...\n",
      "For row 6, column 2, we have 0 scaled by 1...\n",
      "For row 6, column 3, we have 0 scaled by 2...\n",
      "For row 6, column 4, we have 0 scaled by -1...\n",
      "For row 6, column 5, we have 0 scaled by 0...\n",
      "For row 6, column 6, we have 1 scaled by 1...\n",
      "For row 6, column 7, we have 1 scaled by -3...\n",
      "So the weighted net flow for node 6 is -2.\n"
     ]
    }
   ],
   "source": [
    "for i in range(len(A)): #rows/nodes\n",
    "    weightedNetFlow = 0\n",
    "    for j in range(7): #columns/arrows\n",
    "        print(\"For row \" + str(i+1) + \", column \" + str(j+1) + \", we have \" + str(M[i,j]) + \" scaled by \" + str(weights[j]) + \"...\")\n",
    "        weightedNetFlow += M[i,j] * weights[j]\n",
    "    print(\"So the weighted net flow for node \" + str(i+1) + \" is \" + str(weightedNetFlow) + \".\")"
   ]
  },
  {
   "cell_type": "markdown",
   "metadata": {},
   "source": [
    "(e) Set-up a linear combination to determine if it is possible to choose weights such that\n",
    "the weighted net flow through the nodes is given by b = <2, 3, −62, 1, −6, 0>."
   ]
  },
  {
   "cell_type": "code",
   "execution_count": 23,
   "metadata": {},
   "outputs": [
    {
     "name": "stdout",
     "output_type": "stream",
     "text": [
      "As a reminder, the matrix is:\n",
      "[[-1  0  0  0  0  0  0]\n",
      " [ 1 -1 -1  0  0  0  0]\n",
      " [ 0  1  0 -1  0  0  0]\n",
      " [ 0  0  1  0 -1  0 -1]\n",
      " [ 0  0  0  1  1 -1  0]\n",
      " [ 0  0  0  0  0  1  1]]\n",
      "And we're looking for <2, 3, -62, 1, -6, 0> = c1 * a1 + c2 * a2 + ... + c6 * a6.\n",
      "The vector sum is:\n",
      "[[-1]\n",
      " [-1]\n",
      " [ 0]\n",
      " [-1]\n",
      " [ 1]\n",
      " [ 2]]\n",
      "It turns out that since there's nothing we can weight the third row by that would output anything but zero, we don't have a linear combination that works.\n"
     ]
    }
   ],
   "source": [
    "print(\"As a reminder, the matrix is:\")\n",
    "print(A)\n",
    "print(\"And we're looking for <2, 3, -62, 1, -6, 0> = c1 * a1 + c2 * a2 + ... + c6 * a6.\")\n",
    "print(\"The vector sum is:\")\n",
    "print(np.column_stack([vectorSum]))\n",
    "print(\"It turns out that since there's nothing we can weight the third row by that would output anything but zero, we don't have a linear combination that works.\")"
   ]
  },
  {
   "cell_type": "markdown",
   "metadata": {},
   "source": [
    "Problem 2. Let G be the digraph whose incidence matrix is:\n",
    "![alt text](Desktop/school/matrix.png \"Title\")\n",
    "Sketch G.\n",
    "![alt text](Desktop/school/newdigraph.png \"Title\")"
   ]
  }
 ],
 "metadata": {
  "kernelspec": {
   "display_name": "Python 3",
   "language": "python",
   "name": "python3"
  },
  "language_info": {
   "codemirror_mode": {
    "name": "ipython",
    "version": 3
   },
   "file_extension": ".py",
   "mimetype": "text/x-python",
   "name": "python",
   "nbconvert_exporter": "python",
   "pygments_lexer": "ipython3",
   "version": "3.6.1"
  }
 },
 "nbformat": 4,
 "nbformat_minor": 2
}
